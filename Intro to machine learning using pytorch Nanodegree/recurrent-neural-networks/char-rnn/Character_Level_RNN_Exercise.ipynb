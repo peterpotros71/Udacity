{
  "cells": [
    {
      "cell_type": "markdown",
      "metadata": {
        "id": "3xgW4G9V77Wy"
      },
      "source": [
        "# Character-Level LSTM in PyTorch\n",
        "\n",
        "In this notebook, I'll construct a character-level LSTM with PyTorch. The network will train character by character on some text, then generate new text character by character. As an example, I will train on Anna Karenina. **This model will be able to generate new text based on the text from the book!**\n",
        "\n",
        "This network is based off of Andrej Karpathy's [post on RNNs](http://karpathy.github.io/2015/05/21/rnn-effectiveness/) and [implementation in Torch](https://github.com/karpathy/char-rnn). Below is the general architecture of the character-wise RNN.\n",
        "\n",
        "<img src=\"assets/charseq.jpeg\" width=\"500\">"
      ]
    },
    {
      "cell_type": "markdown",
      "metadata": {
        "id": "NHg5Wr_w77W8"
      },
      "source": [
        "First let's load in our required resources for data loading and model creation."
      ]
    },
    {
      "cell_type": "code",
      "execution_count": 1,
      "metadata": {
        "collapsed": true,
        "id": "p-2VxEib77W9"
      },
      "outputs": [],
      "source": [
        "import numpy as np\n",
        "import torch\n",
        "from torch import nn\n",
        "import torch.nn.functional as F"
      ]
    },
    {
      "cell_type": "markdown",
      "metadata": {
        "id": "t6xvNJtK77XC"
      },
      "source": [
        "## Load in Data\n",
        "\n",
        "Then, we'll load the Anna Karenina text file and convert it into integers for our network to use."
      ]
    },
    {
      "cell_type": "code",
      "execution_count": 3,
      "metadata": {
        "collapsed": true,
        "id": "Jlb1yiHN77XE"
      },
      "outputs": [],
      "source": [
        "# open text file and read in data as `text`\n",
        "with open('data/anna.txt', 'r') as f:\n",
        "    text = f.read()"
      ]
    },
    {
      "cell_type": "markdown",
      "metadata": {
        "id": "P7sRl5cV77XF"
      },
      "source": [
        "Let's check out the first 100 characters, make sure everything is peachy. According to the [American Book Review](http://americanbookreview.org/100bestlines.asp), this is the 6th best first line of a book ever."
      ]
    },
    {
      "cell_type": "code",
      "execution_count": 4,
      "metadata": {
        "collapsed": true,
        "colab": {
          "base_uri": "https://localhost:8080/",
          "height": 36
        },
        "id": "wlf_3Skq77XG",
        "outputId": "b6c5b221-e493-406b-d694-f7e85107c88b"
      },
      "outputs": [
        {
          "output_type": "execute_result",
          "data": {
            "text/plain": [
              "'Chapter 1\\n\\n\\nHappy families are all alike; every unhappy family is unhappy in its own\\nway.\\n\\nEverythin'"
            ],
            "application/vnd.google.colaboratory.intrinsic+json": {
              "type": "string"
            }
          },
          "metadata": {},
          "execution_count": 4
        }
      ],
      "source": [
        "text[:100]"
      ]
    },
    {
      "cell_type": "markdown",
      "metadata": {
        "id": "Wdu4yVRb77XI"
      },
      "source": [
        "### Tokenization\n",
        "\n",
        "In the cells, below, I'm creating a couple of **dictionaries** to convert the characters to and from integers. Encoding the characters as integers makes it easier to use as input in the network."
      ]
    },
    {
      "cell_type": "code",
      "execution_count": 5,
      "metadata": {
        "collapsed": true,
        "id": "XNvn4og977XJ"
      },
      "outputs": [],
      "source": [
        "# encode the text and map each character to an integer and vice versa\n",
        "\n",
        "# we create two dictionaries:\n",
        "# 1. int2char, which maps integers to characters\n",
        "# 2. char2int, which maps characters to unique integers\n",
        "chars = tuple(set(text))\n",
        "int2char = dict(enumerate(chars))\n",
        "char2int = {ch: ii for ii, ch in int2char.items()}\n",
        "\n",
        "# encode the text\n",
        "encoded = np.array([char2int[ch] for ch in text])"
      ]
    },
    {
      "cell_type": "markdown",
      "metadata": {
        "id": "TNQrsfV177XK"
      },
      "source": [
        "And we can see those same characters from above, encoded as integers."
      ]
    },
    {
      "cell_type": "code",
      "execution_count": 6,
      "metadata": {
        "collapsed": true,
        "colab": {
          "base_uri": "https://localhost:8080/"
        },
        "id": "XRmrLa8077XM",
        "outputId": "c5dcb2a7-0b58-474b-e257-ce23e2327bbb"
      },
      "outputs": [
        {
          "output_type": "execute_result",
          "data": {
            "text/plain": [
              "array([22, 62, 79, 63, 49, 37, 40, 52, 81, 36, 36, 36, 65, 79, 63, 63,  5,\n",
              "       52, 30, 79,  4, 43, 12, 43, 37, 20, 52, 79, 40, 37, 52, 79, 12, 12,\n",
              "       52, 79, 12, 43, 50, 37, 32, 52, 37,  7, 37, 40,  5, 52, 70, 67, 62,\n",
              "       79, 63, 63,  5, 52, 30, 79,  4, 43, 12,  5, 52, 43, 20, 52, 70, 67,\n",
              "       62, 79, 63, 63,  5, 52, 43, 67, 52, 43, 49, 20, 52, 13, 16, 67, 36,\n",
              "       16, 79,  5, 66, 36, 36, 74,  7, 37, 40,  5, 49, 62, 43, 67])"
            ]
          },
          "metadata": {},
          "execution_count": 6
        }
      ],
      "source": [
        "encoded[:100]"
      ]
    },
    {
      "cell_type": "markdown",
      "metadata": {
        "id": "-CM1w4dT77XM"
      },
      "source": [
        "## Pre-processing the data\n",
        "\n",
        "As you can see in our char-RNN image above, our LSTM expects an input that is **one-hot encoded** meaning that each character is converted into an integer (via our created dictionary) and *then* converted into a column vector where only it's corresponding integer index will have the value of 1 and the rest of the vector will be filled with 0's. Since we're one-hot encoding the data, let's make a function to do that!\n"
      ]
    },
    {
      "cell_type": "code",
      "execution_count": 8,
      "metadata": {
        "collapsed": true,
        "id": "To5BTIIC77XN"
      },
      "outputs": [],
      "source": [
        "def one_hot_encode(arr, n_labels):\n",
        "\n",
        "    # Initialize the encoded array\n",
        "    one_hot = np.zeros((arr.size, n_labels), dtype=np.float32)\n",
        "\n",
        "    # Fill the appropriate elements with ones\n",
        "    one_hot[np.arange(one_hot.shape[0]), arr.flatten()] = 1.\n",
        "\n",
        "    # Finally reshape it to get back to the original array\n",
        "    one_hot = one_hot.reshape((*arr.shape, n_labels))\n",
        "\n",
        "    return one_hot"
      ]
    },
    {
      "cell_type": "code",
      "execution_count": 9,
      "metadata": {
        "collapsed": true,
        "colab": {
          "base_uri": "https://localhost:8080/"
        },
        "id": "Sy04p3Bq77XN",
        "outputId": "ff143f93-0511-4519-a589-dee604582324"
      },
      "outputs": [
        {
          "output_type": "stream",
          "name": "stdout",
          "text": [
            "[[[0. 0. 0. 1. 0. 0. 0. 0.]\n",
            "  [0. 0. 0. 0. 0. 1. 0. 0.]\n",
            "  [0. 1. 0. 0. 0. 0. 0. 0.]]]\n"
          ]
        }
      ],
      "source": [
        "# check that the function works as expected\n",
        "test_seq = np.array([[3, 5, 1]])\n",
        "one_hot = one_hot_encode(test_seq, 8)\n",
        "\n",
        "print(one_hot)"
      ]
    },
    {
      "cell_type": "markdown",
      "metadata": {
        "id": "9o81-eQ877XO"
      },
      "source": [
        "## Making training mini-batches\n",
        "\n",
        "\n",
        "To train on this data, we also want to create mini-batches for training. Remember that we want our batches to be multiple sequences of some desired number of sequence steps. Considering a simple example, our batches would look like this:\n",
        "\n",
        "<img src=\"assets/sequence_batching@1x.png\" width=500px>\n",
        "\n",
        "\n",
        "<br>\n",
        "\n",
        "In this example, we'll take the encoded characters (passed in as the `arr` parameter) and split them into multiple sequences, given by `batch_size`. Each of our sequences will be `seq_length` long.\n",
        "\n",
        "### Creating Batches\n",
        "\n",
        "**1. The first thing we need to do is discard some of the text so we only have completely full mini-batches. **\n",
        "\n",
        "Each batch contains $N \\times M$ characters, where $N$ is the batch size (the number of sequences in a batch) and $M$ is the seq_length or number of time steps in a sequence. Then, to get the total number of batches, $K$, that we can make from the array `arr`, you divide the length of `arr` by the number of characters per batch. Once you know the number of batches, you can get the total number of characters to keep from `arr`, $N * M * K$.\n",
        "\n",
        "**2. After that, we need to split `arr` into $N$ batches. **\n",
        "\n",
        "You can do this using `arr.reshape(size)` where `size` is a tuple containing the dimensions sizes of the reshaped array. We know we want $N$ sequences in a batch, so let's make that the size of the first dimension. For the second dimension, you can use `-1` as a placeholder in the size, it'll fill up the array with the appropriate data for you. After this, you should have an array that is $N \\times (M * K)$.\n",
        "\n",
        "**3. Now that we have this array, we can iterate through it to get our mini-batches. **\n",
        "\n",
        "The idea is each batch is a $N \\times M$ window on the $N \\times (M * K)$ array. For each subsequent batch, the window moves over by `seq_length`. We also want to create both the input and target arrays. Remember that the targets are just the inputs shifted over by one character. The way I like to do this window is use `range` to take steps of size `n_steps` from $0$ to `arr.shape[1]`, the total number of tokens in each sequence. That way, the integers you get from `range` always point to the start of a batch, and each window is `seq_length` wide.\n",
        "\n",
        "> **TODO:** Write the code for creating batches in the function below. The exercises in this notebook _will not be easy_. I've provided a notebook with solutions alongside this notebook. If you get stuck, checkout the solutions. The most important thing is that you don't copy and paste the code into here, **type out the solution code yourself.**"
      ]
    },
    {
      "cell_type": "code",
      "execution_count": 10,
      "metadata": {
        "collapsed": true,
        "id": "KZWU4A7T77XP"
      },
      "outputs": [],
      "source": [
        "def get_batches(arr, batch_size, seq_length):\n",
        "    '''Create a generator that returns batches of size\n",
        "       batch_size x seq_length from arr.\n",
        "\n",
        "       Arguments\n",
        "       ---------\n",
        "       arr: Array you want to make batches from\n",
        "       batch_size: Batch size, the number of sequences per batch\n",
        "       seq_length: Number of encoded chars in a sequence\n",
        "    '''\n",
        "\n",
        "    ## TODO: Get the number of batches we can make\n",
        "    n_batches = len(arr) // (batch_size*seq_length)\n",
        "\n",
        "    ## TODO: Keep only enough characters to make full batches\n",
        "    arr = arr[:(n_batches*batch_size*seq_length)]\n",
        "\n",
        "    ## TODO: Reshape into batch_size rows\n",
        "    arr = arr.reshape(batch_size,-1)\n",
        "\n",
        "    ## TODO: Iterate over the batches using a window of size seq_length\n",
        "    for n in range(0, arr.shape[1], seq_length):\n",
        "        # The features\n",
        "        x = arr[:, n:n+seq_length]\n",
        "        # The targets, shifted by one\n",
        "        y = np.zeros_like(x)\n",
        "        try:\n",
        "            y[:, :-1], y[:, -1] = x[:, 1:], arr[:, n+seq_length]\n",
        "        except IndexError:\n",
        "            y[:, :-1], y[:, -1] = x[:, 1:], arr[:, 0]\n",
        "        yield x, y"
      ]
    },
    {
      "cell_type": "markdown",
      "metadata": {
        "id": "dVJkeyHx77XQ"
      },
      "source": [
        "### Test Your Implementation\n",
        "\n",
        "Now I'll make some data sets and we can check out what's going on as we batch data. Here, as an example, I'm going to use a batch size of 8 and 50 sequence steps."
      ]
    },
    {
      "cell_type": "code",
      "execution_count": 11,
      "metadata": {
        "collapsed": true,
        "id": "jrjkeiju77XR"
      },
      "outputs": [],
      "source": [
        "batches = get_batches(encoded, 8, 50)\n",
        "x, y = next(batches)"
      ]
    },
    {
      "cell_type": "code",
      "execution_count": 12,
      "metadata": {
        "collapsed": true,
        "colab": {
          "base_uri": "https://localhost:8080/"
        },
        "id": "4rajNmTF77XS",
        "outputId": "1f543eb7-902e-466b-c094-9506427af471"
      },
      "outputs": [
        {
          "output_type": "stream",
          "name": "stdout",
          "text": [
            "x\n",
            " [[22 62 79 63 49 37 40 52 81 36]\n",
            " [20 13 67 52 49 62 79 49 52 79]\n",
            " [37 67 51 52 13 40 52 79 52 30]\n",
            " [20 52 49 62 37 52 34 62 43 37]\n",
            " [52 20 79 16 52 62 37 40 52 49]\n",
            " [34 70 20 20 43 13 67 52 79 67]\n",
            " [52 44 67 67 79 52 62 79 51 52]\n",
            " [ 1 35 12 13 67 20 50  5 66 52]]\n",
            "\n",
            "y\n",
            " [[62 79 63 49 37 40 52 81 36 36]\n",
            " [13 67 52 49 62 79 49 52 79 49]\n",
            " [67 51 52 13 40 52 79 52 30 13]\n",
            " [52 49 62 37 52 34 62 43 37 30]\n",
            " [20 79 16 52 62 37 40 52 49 37]\n",
            " [70 20 20 43 13 67 52 79 67 51]\n",
            " [44 67 67 79 52 62 79 51 52 20]\n",
            " [35 12 13 67 20 50  5 66 52 19]]\n"
          ]
        }
      ],
      "source": [
        "# printing out the first 10 items in a sequence\n",
        "print('x\\n', x[:10, :10])\n",
        "print('\\ny\\n', y[:10, :10])"
      ]
    },
    {
      "cell_type": "markdown",
      "metadata": {
        "id": "idgBuJxD77XT"
      },
      "source": [
        "If you implemented `get_batches` correctly, the above output should look something like\n",
        "```\n",
        "x\n",
        " [[25  8 60 11 45 27 28 73  1  2]\n",
        " [17  7 20 73 45  8 60 45 73 60]\n",
        " [27 20 80 73  7 28 73 60 73 65]\n",
        " [17 73 45  8 27 73 66  8 46 27]\n",
        " [73 17 60 12 73  8 27 28 73 45]\n",
        " [66 64 17 17 46  7 20 73 60 20]\n",
        " [73 76 20 20 60 73  8 60 80 73]\n",
        " [47 35 43  7 20 17 24 50 37 73]]\n",
        "\n",
        "y\n",
        " [[ 8 60 11 45 27 28 73  1  2  2]\n",
        " [ 7 20 73 45  8 60 45 73 60 45]\n",
        " [20 80 73  7 28 73 60 73 65  7]\n",
        " [73 45  8 27 73 66  8 46 27 65]\n",
        " [17 60 12 73  8 27 28 73 45 27]\n",
        " [64 17 17 46  7 20 73 60 20 80]\n",
        " [76 20 20 60 73  8 60 80 73 17]\n",
        " [35 43  7 20 17 24 50 37 73 36]]\n",
        " ```\n",
        " although the exact numbers may be different. Check to make sure the data is shifted over one step for `y`."
      ]
    },
    {
      "cell_type": "markdown",
      "metadata": {
        "id": "6JgnCdVy77XT"
      },
      "source": [
        "---\n",
        "## Defining the network with PyTorch\n",
        "\n",
        "Below is where you'll define the network.\n",
        "\n",
        "<img src=\"assets/charRNN.png\" width=500px>\n",
        "\n",
        "Next, you'll use PyTorch to define the architecture of the network. We start by defining the layers and operations we want. Then, define a method for the forward pass. You've also been given a method for predicting characters."
      ]
    },
    {
      "cell_type": "markdown",
      "metadata": {
        "id": "CRm2sCf177XU"
      },
      "source": [
        "### Model Structure\n",
        "\n",
        "In `__init__` the suggested structure is as follows:\n",
        "* Create and store the necessary dictionaries (this has been done for you)\n",
        "* Define an LSTM layer that takes as params: an input size (the number of characters), a hidden layer size `n_hidden`, a number of layers `n_layers`, a dropout probability `drop_prob`, and a batch_first boolean (True, since we are batching)\n",
        "* Define a dropout layer with `drop_prob`\n",
        "* Define a fully-connected layer with params: input size `n_hidden` and output size (the number of characters)\n",
        "* Finally, initialize the weights (again, this has been given)\n",
        "\n",
        "Note that some parameters have been named and given in the `__init__` function, and we use them and store them by doing something like `self.drop_prob = drop_prob`."
      ]
    },
    {
      "cell_type": "markdown",
      "metadata": {
        "id": "QFxrOujE77XU"
      },
      "source": [
        "---\n",
        "### LSTM Inputs/Outputs\n",
        "\n",
        "You can create a basic [LSTM layer](https://pytorch.org/docs/stable/nn.html#lstm) as follows\n",
        "\n",
        "```python\n",
        "self.lstm = nn.LSTM(input_size, n_hidden, n_layers,\n",
        "                            dropout=drop_prob, batch_first=True)\n",
        "```\n",
        "\n",
        "where `input_size` is the number of characters this cell expects to see as sequential input, and `n_hidden` is the number of units in the hidden layers in the cell. And we can add dropout by adding a dropout parameter with a specified probability; this will automatically add dropout to the inputs or outputs. Finally, in the `forward` function, we can stack up the LSTM cells into layers using `.view`. With this, you pass in a list of cells and it will send the output of one cell into the next cell.\n",
        "\n",
        "We also need to create an initial hidden state of all zeros. This is done like so\n",
        "\n",
        "```python\n",
        "self.init_hidden()\n",
        "```"
      ]
    },
    {
      "cell_type": "code",
      "execution_count": 13,
      "metadata": {
        "collapsed": true,
        "id": "IiQHrDPu77XV",
        "colab": {
          "base_uri": "https://localhost:8080/"
        },
        "outputId": "845b3da6-f184-4035-a6f7-a878769146ef"
      },
      "outputs": [
        {
          "output_type": "stream",
          "name": "stdout",
          "text": [
            "Training on GPU!\n"
          ]
        }
      ],
      "source": [
        "# check if GPU is available\n",
        "train_on_gpu = torch.cuda.is_available()\n",
        "if(train_on_gpu):\n",
        "    print('Training on GPU!')\n",
        "else:\n",
        "    print('No GPU available, training on CPU; consider making n_epochs very small.')"
      ]
    },
    {
      "cell_type": "code",
      "execution_count": 14,
      "metadata": {
        "collapsed": true,
        "id": "Mpoptni877XV"
      },
      "outputs": [],
      "source": [
        "class CharRNN(nn.Module):\n",
        "\n",
        "    def __init__(self, tokens, n_hidden=256, n_layers=2,\n",
        "                               drop_prob=0.5, lr=0.001):\n",
        "        super().__init__()\n",
        "        self.drop_prob = drop_prob\n",
        "        self.n_layers = n_layers\n",
        "        self.n_hidden = n_hidden\n",
        "        self.lr = lr\n",
        "\n",
        "        # creating character dictionaries\n",
        "        self.chars = tokens\n",
        "        self.int2char = dict(enumerate(self.chars))\n",
        "        self.char2int = {ch: ii for ii, ch in self.int2char.items()}\n",
        "\n",
        "        ## TODO: define the layers of the model\n",
        "        self.lstm = nn.LSTM(len(self.chars), n_hidden, n_layers,\n",
        "                            dropout=drop_prob, batch_first=True)\n",
        "\n",
        "        ## TODO: define a dropout layer\n",
        "        self.dropout = nn.Dropout(drop_prob)\n",
        "\n",
        "        ## TODO: define the final, fully-connected output layer\n",
        "        self.fc = nn.Linear(n_hidden, len(self.chars))\n",
        "\n",
        "    def forward(self, x, hidden):\n",
        "        ''' Forward pass through the network.\n",
        "            These inputs are x, and the hidden/cell state `hidden`. '''\n",
        "\n",
        "        ## TODO: Get the outputs and the new hidden state from the lstm\n",
        "        r_output, hidden = self.lstm(x, hidden)\n",
        "\n",
        "        ## TODO: pass through a dropout layer\n",
        "        out = self.dropout(r_output)\n",
        "\n",
        "        # Stack up LSTM outputs using view\n",
        "        # you may need to use contiguous to reshape the output\n",
        "        out = out.contiguous().view(-1, self.n_hidden)\n",
        "\n",
        "        ## TODO: put x through the fully-connected layer\n",
        "        out = self.fc(out)\n",
        "        # return the final output and the hidden state\n",
        "        return out, hidden\n",
        "\n",
        "\n",
        "    def init_hidden(self, batch_size):\n",
        "        ''' Initializes hidden state '''\n",
        "        # Create two new tensors with sizes n_layers x batch_size x n_hidden,\n",
        "        # initialized to zero, for hidden state and cell state of LSTM\n",
        "        weight = next(self.parameters()).data\n",
        "\n",
        "        if (train_on_gpu):\n",
        "            hidden = (weight.new(self.n_layers, batch_size, self.n_hidden).zero_().cuda(),\n",
        "                  weight.new(self.n_layers, batch_size, self.n_hidden).zero_().cuda())\n",
        "        else:\n",
        "            hidden = (weight.new(self.n_layers, batch_size, self.n_hidden).zero_(),\n",
        "                      weight.new(self.n_layers, batch_size, self.n_hidden).zero_())\n",
        "\n",
        "        return hidden\n"
      ]
    },
    {
      "cell_type": "markdown",
      "metadata": {
        "id": "231Nz8l077XW"
      },
      "source": [
        "## Time to train\n",
        "\n",
        "The train function gives us the ability to set the number of epochs, the learning rate, and other parameters.\n",
        "\n",
        "Below we're using an Adam optimizer and cross entropy loss since we are looking at character class scores as output. We calculate the loss and perform backpropagation, as usual!\n",
        "\n",
        "A couple of details about training:\n",
        ">* Within the batch loop, we detach the hidden state from its history; this time setting it equal to a new *tuple* variable because an LSTM has a hidden state that is a tuple of the hidden and cell states.\n",
        "* We use [`clip_grad_norm_`](https://pytorch.org/docs/stable/_modules/torch/nn/utils/clip_grad.html) to help prevent exploding gradients."
      ]
    },
    {
      "cell_type": "code",
      "execution_count": 15,
      "metadata": {
        "collapsed": true,
        "id": "7nrm8TSU77XW"
      },
      "outputs": [],
      "source": [
        "def train(net, data, epochs=10, batch_size=10, seq_length=50, lr=0.001, clip=5, val_frac=0.1, print_every=10):\n",
        "    ''' Training a network\n",
        "\n",
        "        Arguments\n",
        "        ---------\n",
        "\n",
        "        net: CharRNN network\n",
        "        data: text data to train the network\n",
        "        epochs: Number of epochs to train\n",
        "        batch_size: Number of mini-sequences per mini-batch, aka batch size\n",
        "        seq_length: Number of character steps per mini-batch\n",
        "        lr: learning rate\n",
        "        clip: gradient clipping\n",
        "        val_frac: Fraction of data to hold out for validation\n",
        "        print_every: Number of steps for printing training and validation loss\n",
        "\n",
        "    '''\n",
        "    net.train()\n",
        "\n",
        "    opt = torch.optim.Adam(net.parameters(), lr=lr)\n",
        "    criterion = nn.CrossEntropyLoss()\n",
        "\n",
        "    # create training and validation data\n",
        "    val_idx = int(len(data)*(1-val_frac))\n",
        "    data, val_data = data[:val_idx], data[val_idx:]\n",
        "\n",
        "    if(train_on_gpu):\n",
        "        net.cuda()\n",
        "\n",
        "    counter = 0\n",
        "    n_chars = len(net.chars)\n",
        "    for e in range(epochs):\n",
        "        # initialize hidden state\n",
        "        h = net.init_hidden(batch_size)\n",
        "\n",
        "        for x, y in get_batches(data, batch_size, seq_length):\n",
        "            counter += 1\n",
        "\n",
        "            # One-hot encode our data and make them Torch tensors\n",
        "            x = one_hot_encode(x, n_chars)\n",
        "            inputs, targets = torch.from_numpy(x), torch.from_numpy(y)\n",
        "\n",
        "            if(train_on_gpu):\n",
        "                inputs, targets = inputs.cuda(), targets.cuda()\n",
        "\n",
        "            # Creating new variables for the hidden state, otherwise\n",
        "            # we'd backprop through the entire training history\n",
        "            h = tuple([each.data for each in h])\n",
        "\n",
        "            # zero accumulated gradients\n",
        "            net.zero_grad()\n",
        "\n",
        "            # get the output from the model\n",
        "            output, h = net(inputs, h)\n",
        "\n",
        "            # calculate the loss and perform backprop\n",
        "            loss = criterion(output, targets.view(batch_size*seq_length).long())\n",
        "            loss.backward()\n",
        "            # `clip_grad_norm` helps prevent the exploding gradient problem in RNNs / LSTMs.\n",
        "            nn.utils.clip_grad_norm_(net.parameters(), clip)\n",
        "            opt.step()\n",
        "\n",
        "            # loss stats\n",
        "            if counter % print_every == 0:\n",
        "                # Get validation loss\n",
        "                val_h = net.init_hidden(batch_size)\n",
        "                val_losses = []\n",
        "                net.eval()\n",
        "                for x, y in get_batches(val_data, batch_size, seq_length):\n",
        "                    # One-hot encode our data and make them Torch tensors\n",
        "                    x = one_hot_encode(x, n_chars)\n",
        "                    x, y = torch.from_numpy(x), torch.from_numpy(y)\n",
        "\n",
        "                    # Creating new variables for the hidden state, otherwise\n",
        "                    # we'd backprop through the entire training history\n",
        "                    val_h = tuple([each.data for each in val_h])\n",
        "\n",
        "                    inputs, targets = x, y\n",
        "                    if(train_on_gpu):\n",
        "                        inputs, targets = inputs.cuda(), targets.cuda()\n",
        "\n",
        "                    output, val_h = net(inputs, val_h)\n",
        "                    val_loss = criterion(output, targets.view(batch_size*seq_length).long())\n",
        "\n",
        "                    val_losses.append(val_loss.item())\n",
        "\n",
        "                net.train() # reset to train mode after iterationg through validation data\n",
        "\n",
        "                print(\"Epoch: {}/{}...\".format(e+1, epochs),\n",
        "                      \"Step: {}...\".format(counter),\n",
        "                      \"Loss: {:.4f}...\".format(loss.item()),\n",
        "                      \"Val Loss: {:.4f}\".format(np.mean(val_losses)))"
      ]
    },
    {
      "cell_type": "markdown",
      "metadata": {
        "id": "lkgoNqDo77XX"
      },
      "source": [
        "## Instantiating the model\n",
        "\n",
        "Now we can actually train the network. First we'll create the network itself, with some given hyperparameters. Then, define the mini-batches sizes, and start training!"
      ]
    },
    {
      "cell_type": "code",
      "execution_count": 17,
      "metadata": {
        "collapsed": true,
        "id": "lk6JIM9a77XY",
        "colab": {
          "base_uri": "https://localhost:8080/"
        },
        "outputId": "0a386441-b71a-47ca-db2b-4606a030bcdd"
      },
      "outputs": [
        {
          "output_type": "stream",
          "name": "stdout",
          "text": [
            "CharRNN(\n",
            "  (lstm): LSTM(83, 512, num_layers=2, batch_first=True, dropout=0.5)\n",
            "  (dropout): Dropout(p=0.5, inplace=False)\n",
            "  (fc): Linear(in_features=512, out_features=83, bias=True)\n",
            ")\n"
          ]
        }
      ],
      "source": [
        "## TODO: set your model hyperparameters\n",
        "# define and print the net\n",
        "n_hidden=512\n",
        "n_layers=2\n",
        "\n",
        "net = CharRNN(chars, n_hidden, n_layers)\n",
        "print(net)"
      ]
    },
    {
      "cell_type": "markdown",
      "metadata": {
        "id": "WhXuH49-77XY"
      },
      "source": [
        "### Set your training hyperparameters!"
      ]
    },
    {
      "cell_type": "code",
      "execution_count": 18,
      "metadata": {
        "collapsed": true,
        "scrolled": true,
        "id": "d42OAKb_77XY",
        "colab": {
          "base_uri": "https://localhost:8080/"
        },
        "outputId": "4864d47e-a844-469a-954a-0df1ea35640a"
      },
      "outputs": [
        {
          "output_type": "stream",
          "name": "stdout",
          "text": [
            "Epoch: 1/20... Step: 10... Loss: 3.2585... Val Loss: 3.1790\n",
            "Epoch: 1/20... Step: 20... Loss: 3.1492... Val Loss: 3.1323\n",
            "Epoch: 1/20... Step: 30... Loss: 3.1387... Val Loss: 3.1216\n",
            "Epoch: 1/20... Step: 40... Loss: 3.1152... Val Loss: 3.1185\n",
            "Epoch: 1/20... Step: 50... Loss: 3.1437... Val Loss: 3.1170\n",
            "Epoch: 1/20... Step: 60... Loss: 3.1177... Val Loss: 3.1137\n",
            "Epoch: 1/20... Step: 70... Loss: 3.1004... Val Loss: 3.1089\n",
            "Epoch: 1/20... Step: 80... Loss: 3.1126... Val Loss: 3.0969\n",
            "Epoch: 1/20... Step: 90... Loss: 3.0960... Val Loss: 3.0746\n",
            "Epoch: 1/20... Step: 100... Loss: 3.0327... Val Loss: 3.0132\n",
            "Epoch: 1/20... Step: 110... Loss: 2.9369... Val Loss: 2.9010\n",
            "Epoch: 1/20... Step: 120... Loss: 2.8319... Val Loss: 2.8054\n",
            "Epoch: 1/20... Step: 130... Loss: 2.7291... Val Loss: 2.6810\n",
            "Epoch: 2/20... Step: 140... Loss: 2.6334... Val Loss: 2.5795\n",
            "Epoch: 2/20... Step: 150... Loss: 2.5780... Val Loss: 2.5220\n",
            "Epoch: 2/20... Step: 160... Loss: 2.5177... Val Loss: 2.4776\n",
            "Epoch: 2/20... Step: 170... Loss: 2.4489... Val Loss: 2.4409\n",
            "Epoch: 2/20... Step: 180... Loss: 2.4219... Val Loss: 2.4033\n",
            "Epoch: 2/20... Step: 190... Loss: 2.3760... Val Loss: 2.3722\n",
            "Epoch: 2/20... Step: 200... Loss: 2.3678... Val Loss: 2.3398\n",
            "Epoch: 2/20... Step: 210... Loss: 2.3381... Val Loss: 2.3127\n",
            "Epoch: 2/20... Step: 220... Loss: 2.2993... Val Loss: 2.2835\n",
            "Epoch: 2/20... Step: 230... Loss: 2.2795... Val Loss: 2.2581\n",
            "Epoch: 2/20... Step: 240... Loss: 2.2649... Val Loss: 2.2332\n",
            "Epoch: 2/20... Step: 250... Loss: 2.2040... Val Loss: 2.2063\n",
            "Epoch: 2/20... Step: 260... Loss: 2.1724... Val Loss: 2.1821\n",
            "Epoch: 2/20... Step: 270... Loss: 2.1838... Val Loss: 2.1650\n",
            "Epoch: 3/20... Step: 280... Loss: 2.1815... Val Loss: 2.1381\n",
            "Epoch: 3/20... Step: 290... Loss: 2.1495... Val Loss: 2.1122\n",
            "Epoch: 3/20... Step: 300... Loss: 2.1226... Val Loss: 2.0947\n",
            "Epoch: 3/20... Step: 310... Loss: 2.0965... Val Loss: 2.0743\n",
            "Epoch: 3/20... Step: 320... Loss: 2.0670... Val Loss: 2.0544\n",
            "Epoch: 3/20... Step: 330... Loss: 2.0288... Val Loss: 2.0403\n",
            "Epoch: 3/20... Step: 340... Loss: 2.0677... Val Loss: 2.0223\n",
            "Epoch: 3/20... Step: 350... Loss: 2.0408... Val Loss: 2.0055\n",
            "Epoch: 3/20... Step: 360... Loss: 1.9748... Val Loss: 1.9871\n",
            "Epoch: 3/20... Step: 370... Loss: 1.9999... Val Loss: 1.9726\n",
            "Epoch: 3/20... Step: 380... Loss: 1.9792... Val Loss: 1.9518\n",
            "Epoch: 3/20... Step: 390... Loss: 1.9503... Val Loss: 1.9396\n",
            "Epoch: 3/20... Step: 400... Loss: 1.9182... Val Loss: 1.9218\n",
            "Epoch: 3/20... Step: 410... Loss: 1.9455... Val Loss: 1.9078\n",
            "Epoch: 4/20... Step: 420... Loss: 1.9260... Val Loss: 1.8935\n",
            "Epoch: 4/20... Step: 430... Loss: 1.9119... Val Loss: 1.8808\n",
            "Epoch: 4/20... Step: 440... Loss: 1.9007... Val Loss: 1.8717\n",
            "Epoch: 4/20... Step: 450... Loss: 1.8309... Val Loss: 1.8568\n",
            "Epoch: 4/20... Step: 460... Loss: 1.8226... Val Loss: 1.8483\n",
            "Epoch: 4/20... Step: 470... Loss: 1.8673... Val Loss: 1.8384\n",
            "Epoch: 4/20... Step: 480... Loss: 1.8542... Val Loss: 1.8271\n",
            "Epoch: 4/20... Step: 490... Loss: 1.8444... Val Loss: 1.8168\n",
            "Epoch: 4/20... Step: 500... Loss: 1.8463... Val Loss: 1.8041\n",
            "Epoch: 4/20... Step: 510... Loss: 1.8239... Val Loss: 1.7931\n",
            "Epoch: 4/20... Step: 520... Loss: 1.8281... Val Loss: 1.7847\n",
            "Epoch: 4/20... Step: 530... Loss: 1.7941... Val Loss: 1.7736\n",
            "Epoch: 4/20... Step: 540... Loss: 1.7585... Val Loss: 1.7616\n",
            "Epoch: 4/20... Step: 550... Loss: 1.7988... Val Loss: 1.7548\n",
            "Epoch: 5/20... Step: 560... Loss: 1.7679... Val Loss: 1.7435\n",
            "Epoch: 5/20... Step: 570... Loss: 1.7634... Val Loss: 1.7370\n",
            "Epoch: 5/20... Step: 580... Loss: 1.7402... Val Loss: 1.7297\n",
            "Epoch: 5/20... Step: 590... Loss: 1.7348... Val Loss: 1.7186\n",
            "Epoch: 5/20... Step: 600... Loss: 1.7256... Val Loss: 1.7165\n",
            "Epoch: 5/20... Step: 610... Loss: 1.7051... Val Loss: 1.7093\n",
            "Epoch: 5/20... Step: 620... Loss: 1.7006... Val Loss: 1.7017\n",
            "Epoch: 5/20... Step: 630... Loss: 1.7294... Val Loss: 1.6945\n",
            "Epoch: 5/20... Step: 640... Loss: 1.6986... Val Loss: 1.6829\n",
            "Epoch: 5/20... Step: 650... Loss: 1.6745... Val Loss: 1.6739\n",
            "Epoch: 5/20... Step: 660... Loss: 1.6617... Val Loss: 1.6714\n",
            "Epoch: 5/20... Step: 670... Loss: 1.6858... Val Loss: 1.6613\n",
            "Epoch: 5/20... Step: 680... Loss: 1.6788... Val Loss: 1.6556\n",
            "Epoch: 5/20... Step: 690... Loss: 1.6550... Val Loss: 1.6479\n",
            "Epoch: 6/20... Step: 700... Loss: 1.6525... Val Loss: 1.6433\n",
            "Epoch: 6/20... Step: 710... Loss: 1.6483... Val Loss: 1.6385\n",
            "Epoch: 6/20... Step: 720... Loss: 1.6293... Val Loss: 1.6289\n",
            "Epoch: 6/20... Step: 730... Loss: 1.6499... Val Loss: 1.6263\n",
            "Epoch: 6/20... Step: 740... Loss: 1.6128... Val Loss: 1.6221\n",
            "Epoch: 6/20... Step: 750... Loss: 1.5978... Val Loss: 1.6127\n",
            "Epoch: 6/20... Step: 760... Loss: 1.6364... Val Loss: 1.6109\n",
            "Epoch: 6/20... Step: 770... Loss: 1.6249... Val Loss: 1.6059\n",
            "Epoch: 6/20... Step: 780... Loss: 1.6022... Val Loss: 1.6004\n",
            "Epoch: 6/20... Step: 790... Loss: 1.5851... Val Loss: 1.5928\n",
            "Epoch: 6/20... Step: 800... Loss: 1.6022... Val Loss: 1.5909\n",
            "Epoch: 6/20... Step: 810... Loss: 1.5877... Val Loss: 1.5849\n",
            "Epoch: 6/20... Step: 820... Loss: 1.5505... Val Loss: 1.5808\n",
            "Epoch: 6/20... Step: 830... Loss: 1.5983... Val Loss: 1.5754\n",
            "Epoch: 7/20... Step: 840... Loss: 1.5566... Val Loss: 1.5730\n",
            "Epoch: 7/20... Step: 850... Loss: 1.5732... Val Loss: 1.5658\n",
            "Epoch: 7/20... Step: 860... Loss: 1.5508... Val Loss: 1.5601\n",
            "Epoch: 7/20... Step: 870... Loss: 1.5658... Val Loss: 1.5546\n",
            "Epoch: 7/20... Step: 880... Loss: 1.5625... Val Loss: 1.5516\n",
            "Epoch: 7/20... Step: 890... Loss: 1.5657... Val Loss: 1.5442\n",
            "Epoch: 7/20... Step: 900... Loss: 1.5393... Val Loss: 1.5432\n",
            "Epoch: 7/20... Step: 910... Loss: 1.5127... Val Loss: 1.5421\n",
            "Epoch: 7/20... Step: 920... Loss: 1.5404... Val Loss: 1.5358\n",
            "Epoch: 7/20... Step: 930... Loss: 1.5244... Val Loss: 1.5319\n",
            "Epoch: 7/20... Step: 940... Loss: 1.5245... Val Loss: 1.5328\n",
            "Epoch: 7/20... Step: 950... Loss: 1.5353... Val Loss: 1.5259\n",
            "Epoch: 7/20... Step: 960... Loss: 1.5303... Val Loss: 1.5228\n",
            "Epoch: 7/20... Step: 970... Loss: 1.5405... Val Loss: 1.5217\n",
            "Epoch: 8/20... Step: 980... Loss: 1.5129... Val Loss: 1.5207\n",
            "Epoch: 8/20... Step: 990... Loss: 1.5096... Val Loss: 1.5137\n",
            "Epoch: 8/20... Step: 1000... Loss: 1.4991... Val Loss: 1.5065\n",
            "Epoch: 8/20... Step: 1010... Loss: 1.5292... Val Loss: 1.5018\n",
            "Epoch: 8/20... Step: 1020... Loss: 1.5181... Val Loss: 1.5016\n",
            "Epoch: 8/20... Step: 1030... Loss: 1.5057... Val Loss: 1.4979\n",
            "Epoch: 8/20... Step: 1040... Loss: 1.5060... Val Loss: 1.4948\n",
            "Epoch: 8/20... Step: 1050... Loss: 1.4823... Val Loss: 1.4924\n",
            "Epoch: 8/20... Step: 1060... Loss: 1.4805... Val Loss: 1.4897\n",
            "Epoch: 8/20... Step: 1070... Loss: 1.4873... Val Loss: 1.4865\n",
            "Epoch: 8/20... Step: 1080... Loss: 1.4837... Val Loss: 1.4849\n",
            "Epoch: 8/20... Step: 1090... Loss: 1.4779... Val Loss: 1.4819\n",
            "Epoch: 8/20... Step: 1100... Loss: 1.4589... Val Loss: 1.4806\n",
            "Epoch: 8/20... Step: 1110... Loss: 1.4708... Val Loss: 1.4761\n",
            "Epoch: 9/20... Step: 1120... Loss: 1.4831... Val Loss: 1.4767\n",
            "Epoch: 9/20... Step: 1130... Loss: 1.4673... Val Loss: 1.4705\n",
            "Epoch: 9/20... Step: 1140... Loss: 1.4787... Val Loss: 1.4663\n",
            "Epoch: 9/20... Step: 1150... Loss: 1.4857... Val Loss: 1.4646\n",
            "Epoch: 9/20... Step: 1160... Loss: 1.4444... Val Loss: 1.4621\n",
            "Epoch: 9/20... Step: 1170... Loss: 1.4570... Val Loss: 1.4582\n",
            "Epoch: 9/20... Step: 1180... Loss: 1.4404... Val Loss: 1.4579\n",
            "Epoch: 9/20... Step: 1190... Loss: 1.4736... Val Loss: 1.4546\n",
            "Epoch: 9/20... Step: 1200... Loss: 1.4301... Val Loss: 1.4532\n",
            "Epoch: 9/20... Step: 1210... Loss: 1.4388... Val Loss: 1.4506\n",
            "Epoch: 9/20... Step: 1220... Loss: 1.4324... Val Loss: 1.4528\n",
            "Epoch: 9/20... Step: 1230... Loss: 1.4229... Val Loss: 1.4442\n",
            "Epoch: 9/20... Step: 1240... Loss: 1.4328... Val Loss: 1.4412\n",
            "Epoch: 9/20... Step: 1250... Loss: 1.4401... Val Loss: 1.4390\n",
            "Epoch: 10/20... Step: 1260... Loss: 1.4459... Val Loss: 1.4406\n",
            "Epoch: 10/20... Step: 1270... Loss: 1.4254... Val Loss: 1.4354\n",
            "Epoch: 10/20... Step: 1280... Loss: 1.4432... Val Loss: 1.4339\n",
            "Epoch: 10/20... Step: 1290... Loss: 1.4324... Val Loss: 1.4350\n",
            "Epoch: 10/20... Step: 1300... Loss: 1.4269... Val Loss: 1.4323\n",
            "Epoch: 10/20... Step: 1310... Loss: 1.4288... Val Loss: 1.4278\n",
            "Epoch: 10/20... Step: 1320... Loss: 1.3956... Val Loss: 1.4277\n",
            "Epoch: 10/20... Step: 1330... Loss: 1.4086... Val Loss: 1.4268\n",
            "Epoch: 10/20... Step: 1340... Loss: 1.3934... Val Loss: 1.4210\n",
            "Epoch: 10/20... Step: 1350... Loss: 1.3760... Val Loss: 1.4185\n",
            "Epoch: 10/20... Step: 1360... Loss: 1.3887... Val Loss: 1.4227\n",
            "Epoch: 10/20... Step: 1370... Loss: 1.3796... Val Loss: 1.4169\n",
            "Epoch: 10/20... Step: 1380... Loss: 1.4211... Val Loss: 1.4112\n",
            "Epoch: 10/20... Step: 1390... Loss: 1.4296... Val Loss: 1.4106\n",
            "Epoch: 11/20... Step: 1400... Loss: 1.4286... Val Loss: 1.4135\n",
            "Epoch: 11/20... Step: 1410... Loss: 1.4385... Val Loss: 1.4113\n",
            "Epoch: 11/20... Step: 1420... Loss: 1.4253... Val Loss: 1.4022\n",
            "Epoch: 11/20... Step: 1430... Loss: 1.3908... Val Loss: 1.4049\n",
            "Epoch: 11/20... Step: 1440... Loss: 1.4133... Val Loss: 1.4039\n",
            "Epoch: 11/20... Step: 1450... Loss: 1.3439... Val Loss: 1.4065\n",
            "Epoch: 11/20... Step: 1460... Loss: 1.3681... Val Loss: 1.3974\n",
            "Epoch: 11/20... Step: 1470... Loss: 1.3629... Val Loss: 1.4030\n",
            "Epoch: 11/20... Step: 1480... Loss: 1.3851... Val Loss: 1.3912\n",
            "Epoch: 11/20... Step: 1490... Loss: 1.3772... Val Loss: 1.3944\n",
            "Epoch: 11/20... Step: 1500... Loss: 1.3600... Val Loss: 1.4003\n",
            "Epoch: 11/20... Step: 1510... Loss: 1.3484... Val Loss: 1.3974\n",
            "Epoch: 11/20... Step: 1520... Loss: 1.3765... Val Loss: 1.3888\n",
            "Epoch: 12/20... Step: 1530... Loss: 1.4317... Val Loss: 1.3925\n",
            "Epoch: 12/20... Step: 1540... Loss: 1.3962... Val Loss: 1.3926\n",
            "Epoch: 12/20... Step: 1550... Loss: 1.3851... Val Loss: 1.3869\n",
            "Epoch: 12/20... Step: 1560... Loss: 1.4075... Val Loss: 1.3876\n",
            "Epoch: 12/20... Step: 1570... Loss: 1.3552... Val Loss: 1.3827\n",
            "Epoch: 12/20... Step: 1580... Loss: 1.3234... Val Loss: 1.3832\n",
            "Epoch: 12/20... Step: 1590... Loss: 1.3246... Val Loss: 1.3866\n",
            "Epoch: 12/20... Step: 1600... Loss: 1.3534... Val Loss: 1.3837\n",
            "Epoch: 12/20... Step: 1610... Loss: 1.3413... Val Loss: 1.3824\n",
            "Epoch: 12/20... Step: 1620... Loss: 1.3448... Val Loss: 1.3755\n",
            "Epoch: 12/20... Step: 1630... Loss: 1.3625... Val Loss: 1.3796\n",
            "Epoch: 12/20... Step: 1640... Loss: 1.3376... Val Loss: 1.3791\n",
            "Epoch: 12/20... Step: 1650... Loss: 1.3092... Val Loss: 1.3747\n",
            "Epoch: 12/20... Step: 1660... Loss: 1.3697... Val Loss: 1.3763\n",
            "Epoch: 13/20... Step: 1670... Loss: 1.3332... Val Loss: 1.3742\n",
            "Epoch: 13/20... Step: 1680... Loss: 1.3483... Val Loss: 1.3704\n",
            "Epoch: 13/20... Step: 1690... Loss: 1.3359... Val Loss: 1.3700\n",
            "Epoch: 13/20... Step: 1700... Loss: 1.3294... Val Loss: 1.3661\n",
            "Epoch: 13/20... Step: 1710... Loss: 1.3140... Val Loss: 1.3700\n",
            "Epoch: 13/20... Step: 1720... Loss: 1.3350... Val Loss: 1.3693\n",
            "Epoch: 13/20... Step: 1730... Loss: 1.3684... Val Loss: 1.3620\n",
            "Epoch: 13/20... Step: 1740... Loss: 1.3210... Val Loss: 1.3641\n",
            "Epoch: 13/20... Step: 1750... Loss: 1.2907... Val Loss: 1.3622\n",
            "Epoch: 13/20... Step: 1760... Loss: 1.3199... Val Loss: 1.3588\n",
            "Epoch: 13/20... Step: 1770... Loss: 1.3482... Val Loss: 1.3589\n",
            "Epoch: 13/20... Step: 1780... Loss: 1.3149... Val Loss: 1.3639\n",
            "Epoch: 13/20... Step: 1790... Loss: 1.2982... Val Loss: 1.3570\n",
            "Epoch: 13/20... Step: 1800... Loss: 1.3361... Val Loss: 1.3555\n",
            "Epoch: 14/20... Step: 1810... Loss: 1.3327... Val Loss: 1.3628\n",
            "Epoch: 14/20... Step: 1820... Loss: 1.3252... Val Loss: 1.3571\n",
            "Epoch: 14/20... Step: 1830... Loss: 1.3437... Val Loss: 1.3507\n",
            "Epoch: 14/20... Step: 1840... Loss: 1.2834... Val Loss: 1.3567\n",
            "Epoch: 14/20... Step: 1850... Loss: 1.2626... Val Loss: 1.3553\n",
            "Epoch: 14/20... Step: 1860... Loss: 1.3322... Val Loss: 1.3472\n",
            "Epoch: 14/20... Step: 1870... Loss: 1.3347... Val Loss: 1.3485\n",
            "Epoch: 14/20... Step: 1880... Loss: 1.3147... Val Loss: 1.3532\n",
            "Epoch: 14/20... Step: 1890... Loss: 1.3362... Val Loss: 1.3504\n",
            "Epoch: 14/20... Step: 1900... Loss: 1.3206... Val Loss: 1.3447\n",
            "Epoch: 14/20... Step: 1910... Loss: 1.3138... Val Loss: 1.3465\n",
            "Epoch: 14/20... Step: 1920... Loss: 1.3125... Val Loss: 1.3480\n",
            "Epoch: 14/20... Step: 1930... Loss: 1.2781... Val Loss: 1.3480\n",
            "Epoch: 14/20... Step: 1940... Loss: 1.3276... Val Loss: 1.3409\n",
            "Epoch: 15/20... Step: 1950... Loss: 1.3011... Val Loss: 1.3424\n",
            "Epoch: 15/20... Step: 1960... Loss: 1.3097... Val Loss: 1.3414\n",
            "Epoch: 15/20... Step: 1970... Loss: 1.2991... Val Loss: 1.3369\n",
            "Epoch: 15/20... Step: 1980... Loss: 1.2862... Val Loss: 1.3400\n",
            "Epoch: 15/20... Step: 1990... Loss: 1.2816... Val Loss: 1.3379\n",
            "Epoch: 15/20... Step: 2000... Loss: 1.2730... Val Loss: 1.3368\n",
            "Epoch: 15/20... Step: 2010... Loss: 1.2889... Val Loss: 1.3383\n",
            "Epoch: 15/20... Step: 2020... Loss: 1.3156... Val Loss: 1.3404\n",
            "Epoch: 15/20... Step: 2030... Loss: 1.2764... Val Loss: 1.3346\n",
            "Epoch: 15/20... Step: 2040... Loss: 1.3030... Val Loss: 1.3355\n",
            "Epoch: 15/20... Step: 2050... Loss: 1.2830... Val Loss: 1.3343\n",
            "Epoch: 15/20... Step: 2060... Loss: 1.2834... Val Loss: 1.3394\n",
            "Epoch: 15/20... Step: 2070... Loss: 1.3034... Val Loss: 1.3315\n",
            "Epoch: 15/20... Step: 2080... Loss: 1.2899... Val Loss: 1.3336\n",
            "Epoch: 16/20... Step: 2090... Loss: 1.3071... Val Loss: 1.3322\n",
            "Epoch: 16/20... Step: 2100... Loss: 1.2903... Val Loss: 1.3299\n",
            "Epoch: 16/20... Step: 2110... Loss: 1.2714... Val Loss: 1.3293\n",
            "Epoch: 16/20... Step: 2120... Loss: 1.2899... Val Loss: 1.3297\n",
            "Epoch: 16/20... Step: 2130... Loss: 1.2599... Val Loss: 1.3310\n",
            "Epoch: 16/20... Step: 2140... Loss: 1.2733... Val Loss: 1.3337\n",
            "Epoch: 16/20... Step: 2150... Loss: 1.3026... Val Loss: 1.3267\n",
            "Epoch: 16/20... Step: 2160... Loss: 1.2704... Val Loss: 1.3221\n",
            "Epoch: 16/20... Step: 2170... Loss: 1.2865... Val Loss: 1.3219\n",
            "Epoch: 16/20... Step: 2180... Loss: 1.2695... Val Loss: 1.3281\n",
            "Epoch: 16/20... Step: 2190... Loss: 1.2888... Val Loss: 1.3264\n",
            "Epoch: 16/20... Step: 2200... Loss: 1.2719... Val Loss: 1.3223\n",
            "Epoch: 16/20... Step: 2210... Loss: 1.2355... Val Loss: 1.3234\n",
            "Epoch: 16/20... Step: 2220... Loss: 1.2848... Val Loss: 1.3248\n",
            "Epoch: 17/20... Step: 2230... Loss: 1.2605... Val Loss: 1.3216\n",
            "Epoch: 17/20... Step: 2240... Loss: 1.2702... Val Loss: 1.3196\n",
            "Epoch: 17/20... Step: 2250... Loss: 1.2470... Val Loss: 1.3206\n",
            "Epoch: 17/20... Step: 2260... Loss: 1.2617... Val Loss: 1.3158\n",
            "Epoch: 17/20... Step: 2270... Loss: 1.2707... Val Loss: 1.3129\n",
            "Epoch: 17/20... Step: 2280... Loss: 1.2757... Val Loss: 1.3135\n",
            "Epoch: 17/20... Step: 2290... Loss: 1.2670... Val Loss: 1.3119\n",
            "Epoch: 17/20... Step: 2300... Loss: 1.2384... Val Loss: 1.3179\n",
            "Epoch: 17/20... Step: 2310... Loss: 1.2541... Val Loss: 1.3132\n",
            "Epoch: 17/20... Step: 2320... Loss: 1.2499... Val Loss: 1.3177\n",
            "Epoch: 17/20... Step: 2330... Loss: 1.2481... Val Loss: 1.3134\n",
            "Epoch: 17/20... Step: 2340... Loss: 1.2689... Val Loss: 1.3129\n",
            "Epoch: 17/20... Step: 2350... Loss: 1.2666... Val Loss: 1.3147\n",
            "Epoch: 17/20... Step: 2360... Loss: 1.2704... Val Loss: 1.3125\n",
            "Epoch: 18/20... Step: 2370... Loss: 1.2434... Val Loss: 1.3143\n",
            "Epoch: 18/20... Step: 2380... Loss: 1.2581... Val Loss: 1.3137\n",
            "Epoch: 18/20... Step: 2390... Loss: 1.2525... Val Loss: 1.3124\n",
            "Epoch: 18/20... Step: 2400... Loss: 1.2691... Val Loss: 1.3076\n",
            "Epoch: 18/20... Step: 2410... Loss: 1.2752... Val Loss: 1.3084\n",
            "Epoch: 18/20... Step: 2420... Loss: 1.2442... Val Loss: 1.3107\n",
            "Epoch: 18/20... Step: 2430... Loss: 1.2631... Val Loss: 1.3052\n",
            "Epoch: 18/20... Step: 2440... Loss: 1.2489... Val Loss: 1.3100\n",
            "Epoch: 18/20... Step: 2450... Loss: 1.2353... Val Loss: 1.3042\n",
            "Epoch: 18/20... Step: 2460... Loss: 1.2566... Val Loss: 1.3092\n",
            "Epoch: 18/20... Step: 2470... Loss: 1.2439... Val Loss: 1.3080\n",
            "Epoch: 18/20... Step: 2480... Loss: 1.2353... Val Loss: 1.3118\n",
            "Epoch: 18/20... Step: 2490... Loss: 1.2301... Val Loss: 1.3066\n",
            "Epoch: 18/20... Step: 2500... Loss: 1.2296... Val Loss: 1.3018\n",
            "Epoch: 19/20... Step: 2510... Loss: 1.2521... Val Loss: 1.3035\n",
            "Epoch: 19/20... Step: 2520... Loss: 1.2518... Val Loss: 1.3133\n",
            "Epoch: 19/20... Step: 2530... Loss: 1.2616... Val Loss: 1.3079\n",
            "Epoch: 19/20... Step: 2540... Loss: 1.2710... Val Loss: 1.3024\n",
            "Epoch: 19/20... Step: 2550... Loss: 1.2354... Val Loss: 1.3057\n",
            "Epoch: 19/20... Step: 2560... Loss: 1.2484... Val Loss: 1.2950\n",
            "Epoch: 19/20... Step: 2570... Loss: 1.2302... Val Loss: 1.2962\n",
            "Epoch: 19/20... Step: 2580... Loss: 1.2615... Val Loss: 1.2984\n",
            "Epoch: 19/20... Step: 2590... Loss: 1.2282... Val Loss: 1.2985\n",
            "Epoch: 19/20... Step: 2600... Loss: 1.2256... Val Loss: 1.2974\n",
            "Epoch: 19/20... Step: 2610... Loss: 1.2335... Val Loss: 1.2971\n",
            "Epoch: 19/20... Step: 2620... Loss: 1.2109... Val Loss: 1.3026\n",
            "Epoch: 19/20... Step: 2630... Loss: 1.2189... Val Loss: 1.2978\n",
            "Epoch: 19/20... Step: 2640... Loss: 1.2425... Val Loss: 1.2920\n",
            "Epoch: 20/20... Step: 2650... Loss: 1.2432... Val Loss: 1.2992\n",
            "Epoch: 20/20... Step: 2660... Loss: 1.2343... Val Loss: 1.3010\n",
            "Epoch: 20/20... Step: 2670... Loss: 1.2548... Val Loss: 1.2986\n",
            "Epoch: 20/20... Step: 2680... Loss: 1.2580... Val Loss: 1.2930\n",
            "Epoch: 20/20... Step: 2690... Loss: 1.2382... Val Loss: 1.2988\n",
            "Epoch: 20/20... Step: 2700... Loss: 1.2384... Val Loss: 1.2976\n",
            "Epoch: 20/20... Step: 2710... Loss: 1.2097... Val Loss: 1.2953\n",
            "Epoch: 20/20... Step: 2720... Loss: 1.2169... Val Loss: 1.2964\n",
            "Epoch: 20/20... Step: 2730... Loss: 1.2095... Val Loss: 1.2944\n",
            "Epoch: 20/20... Step: 2740... Loss: 1.2059... Val Loss: 1.2925\n",
            "Epoch: 20/20... Step: 2750... Loss: 1.2234... Val Loss: 1.2929\n",
            "Epoch: 20/20... Step: 2760... Loss: 1.2051... Val Loss: 1.2957\n",
            "Epoch: 20/20... Step: 2770... Loss: 1.2443... Val Loss: 1.2939\n",
            "Epoch: 20/20... Step: 2780... Loss: 1.2647... Val Loss: 1.2853\n"
          ]
        }
      ],
      "source": [
        "batch_size =128\n",
        "seq_length =100\n",
        "n_epochs =20  # start small if you are just testing initial behavior\n",
        "\n",
        "# train the model\n",
        "train(net, encoded, epochs=n_epochs, batch_size=batch_size, seq_length=seq_length, lr=0.001, print_every=10)"
      ]
    },
    {
      "cell_type": "markdown",
      "metadata": {
        "id": "BLqqzIOu77XZ"
      },
      "source": [
        "## Getting the best model\n",
        "\n",
        "To set your hyperparameters to get the best performance, you'll want to watch the training and validation losses. If your training loss is much lower than the validation loss, you're overfitting. Increase regularization (more dropout) or use a smaller network. If the training and validation losses are close, you're underfitting so you can increase the size of the network."
      ]
    },
    {
      "cell_type": "markdown",
      "metadata": {
        "id": "-HDxJ8gg77XZ"
      },
      "source": [
        "## Hyperparameters\n",
        "\n",
        "Here are the hyperparameters for the network.\n",
        "\n",
        "In defining the model:\n",
        "* `n_hidden` - The number of units in the hidden layers.\n",
        "* `n_layers` - Number of hidden LSTM layers to use.\n",
        "\n",
        "We assume that dropout probability and learning rate will be kept at the default, in this example.\n",
        "\n",
        "And in training:\n",
        "* `batch_size` - Number of sequences running through the network in one pass.\n",
        "* `seq_length` - Number of characters in the sequence the network is trained on. Larger is better typically, the network will learn more long range dependencies. But it takes longer to train. 100 is typically a good number here.\n",
        "* `lr` - Learning rate for training\n",
        "\n",
        "Here's some good advice from Andrej Karpathy on training the network. I'm going to copy it in here for your benefit, but also link to [where it originally came from](https://github.com/karpathy/char-rnn#tips-and-tricks).\n",
        "\n",
        "> ## Tips and Tricks\n",
        "\n",
        ">### Monitoring Validation Loss vs. Training Loss\n",
        ">If you're somewhat new to Machine Learning or Neural Networks it can take a bit of expertise to get good models. The most important quantity to keep track of is the difference between your training loss (printed during training) and the validation loss (printed once in a while when the RNN is run on the validation data (by default every 1000 iterations)). In particular:\n",
        "\n",
        "> - If your training loss is much lower than validation loss then this means the network might be **overfitting**. Solutions to this are to decrease your network size, or to increase dropout. For example you could try dropout of 0.5 and so on.\n",
        "> - If your training/validation loss are about equal then your model is **underfitting**. Increase the size of your model (either number of layers or the raw number of neurons per layer)\n",
        "\n",
        "> ### Approximate number of parameters\n",
        "\n",
        "> The two most important parameters that control the model are `n_hidden` and `n_layers`. I would advise that you always use `n_layers` of either 2/3. The `n_hidden` can be adjusted based on how much data you have. The two important quantities to keep track of here are:\n",
        "\n",
        "> - The number of parameters in your model. This is printed when you start training.\n",
        "> - The size of your dataset. 1MB file is approximately 1 million characters.\n",
        "\n",
        ">These two should be about the same order of magnitude. It's a little tricky to tell. Here are some examples:\n",
        "\n",
        "> - I have a 100MB dataset and I'm using the default parameter settings (which currently print 150K parameters). My data size is significantly larger (100 mil >> 0.15 mil), so I expect to heavily underfit. I am thinking I can comfortably afford to make `n_hidden` larger.\n",
        "> - I have a 10MB dataset and running a 10 million parameter model. I'm slightly nervous and I'm carefully monitoring my validation loss. If it's larger than my training loss then I may want to try to increase dropout a bit and see if that helps the validation loss.\n",
        "\n",
        "> ### Best models strategy\n",
        "\n",
        ">The winning strategy to obtaining very good models (if you have the compute time) is to always err on making the network larger (as large as you're willing to wait for it to compute) and then try different dropout values (between 0,1). Whatever model has the best validation performance (the loss, written in the checkpoint filename, low is good) is the one you should use in the end.\n",
        "\n",
        ">It is very common in deep learning to run many different models with many different hyperparameter settings, and in the end take whatever checkpoint gave the best validation performance.\n",
        "\n",
        ">By the way, the size of your training and validation splits are also parameters. Make sure you have a decent amount of data in your validation set or otherwise the validation performance will be noisy and not very informative."
      ]
    },
    {
      "cell_type": "markdown",
      "metadata": {
        "id": "RFVkK1Ob77Xa"
      },
      "source": [
        "## Checkpoint\n",
        "\n",
        "After training, we'll save the model so we can load it again later if we need too. Here I'm saving the parameters needed to create the same architecture, the hidden layer hyperparameters and the text characters."
      ]
    },
    {
      "cell_type": "code",
      "execution_count": 19,
      "metadata": {
        "collapsed": true,
        "id": "3ktBqZCi77Xa"
      },
      "outputs": [],
      "source": [
        "# change the name, for saving multiple files\n",
        "model_name = 'rnn_x_epoch.net'\n",
        "\n",
        "checkpoint = {'n_hidden': net.n_hidden,\n",
        "              'n_layers': net.n_layers,\n",
        "              'state_dict': net.state_dict(),\n",
        "              'tokens': net.chars}\n",
        "\n",
        "with open(model_name, 'wb') as f:\n",
        "    torch.save(checkpoint, f)"
      ]
    },
    {
      "cell_type": "markdown",
      "metadata": {
        "id": "ef9MmyNg77Xb"
      },
      "source": [
        "---\n",
        "## Making Predictions\n",
        "\n",
        "Now that the model is trained, we'll want to sample from it and make predictions about next characters! To sample, we pass in a character and have the network predict the next character. Then we take that character, pass it back in, and get another predicted character. Just keep doing this and you'll generate a bunch of text!\n",
        "\n",
        "### A note on the `predict`  function\n",
        "\n",
        "The output of our RNN is from a fully-connected layer and it outputs a **distribution of next-character scores**.\n",
        "\n",
        "> To actually get the next character, we apply a softmax function, which gives us a *probability* distribution that we can then sample to predict the next character.\n",
        "\n",
        "### Top K sampling\n",
        "\n",
        "Our predictions come from a categorical probability distribution over all the possible characters. We can make the sample text and make it more reasonable to handle (with less variables) by only considering some $K$ most probable characters. This will prevent the network from giving us completely absurd characters while allowing it to introduce some noise and randomness into the sampled text. Read more about [topk, here](https://pytorch.org/docs/stable/torch.html#torch.topk).\n"
      ]
    },
    {
      "cell_type": "code",
      "execution_count": 20,
      "metadata": {
        "collapsed": true,
        "id": "aeNKCOa077Xb"
      },
      "outputs": [],
      "source": [
        "def predict(net, char, h=None, top_k=None):\n",
        "        ''' Given a character, predict the next character.\n",
        "            Returns the predicted character and the hidden state.\n",
        "        '''\n",
        "\n",
        "        # tensor inputs\n",
        "        x = np.array([[net.char2int[char]]])\n",
        "        x = one_hot_encode(x, len(net.chars))\n",
        "        inputs = torch.from_numpy(x)\n",
        "\n",
        "        if(train_on_gpu):\n",
        "            inputs = inputs.cuda()\n",
        "\n",
        "        # detach hidden state from history\n",
        "        h = tuple([each.data for each in h])\n",
        "        # get the output of the model\n",
        "        out, h = net(inputs, h)\n",
        "\n",
        "        # get the character probabilities\n",
        "        p = F.softmax(out, dim=1).data\n",
        "        if(train_on_gpu):\n",
        "            p = p.cpu() # move to cpu\n",
        "\n",
        "        # get top characters\n",
        "        if top_k is None:\n",
        "            top_ch = np.arange(len(net.chars))\n",
        "        else:\n",
        "            p, top_ch = p.topk(top_k)\n",
        "            top_ch = top_ch.numpy().squeeze()\n",
        "\n",
        "        # select the likely next character with some element of randomness\n",
        "        p = p.numpy().squeeze()\n",
        "        char = np.random.choice(top_ch, p=p/p.sum())\n",
        "\n",
        "        # return the encoded value of the predicted char and the hidden state\n",
        "        return net.int2char[char], h"
      ]
    },
    {
      "cell_type": "markdown",
      "metadata": {
        "id": "AJmXEXxm77Xc"
      },
      "source": [
        "### Priming and generating text\n",
        "\n",
        "Typically you'll want to prime the network so you can build up a hidden state. Otherwise the network will start out generating characters at random. In general the first bunch of characters will be a little rough since it hasn't built up a long history of characters to predict from."
      ]
    },
    {
      "cell_type": "code",
      "execution_count": 21,
      "metadata": {
        "collapsed": true,
        "id": "jy3tmSfi77Xc"
      },
      "outputs": [],
      "source": [
        "def sample(net, size, prime='The', top_k=None):\n",
        "\n",
        "    if(train_on_gpu):\n",
        "        net.cuda()\n",
        "    else:\n",
        "        net.cpu()\n",
        "\n",
        "    net.eval() # eval mode\n",
        "\n",
        "    # First off, run through the prime characters\n",
        "    chars = [ch for ch in prime]\n",
        "    h = net.init_hidden(1)\n",
        "    for ch in prime:\n",
        "        char, h = predict(net, ch, h, top_k=top_k)\n",
        "\n",
        "    chars.append(char)\n",
        "\n",
        "    # Now pass in the previous character and get a new one\n",
        "    for ii in range(size):\n",
        "        char, h = predict(net, chars[-1], h, top_k=top_k)\n",
        "        chars.append(char)\n",
        "\n",
        "    return ''.join(chars)"
      ]
    },
    {
      "cell_type": "code",
      "execution_count": 22,
      "metadata": {
        "collapsed": true,
        "id": "26HeK0mF77Xn",
        "colab": {
          "base_uri": "https://localhost:8080/"
        },
        "outputId": "c8389a2d-1ca1-4cb4-c287-f957c444ac4a"
      },
      "outputs": [
        {
          "output_type": "stream",
          "name": "stdout",
          "text": [
            "Anna and he had\n",
            "stopped. This was all to be. All the work\n",
            "and the most position as hurred as\n",
            "he would be doing the\n",
            "stops, he could not see.\n",
            "\n",
            "\"I have not\n",
            "asked the peasants' father. I'd been as a mustraining\n",
            "of a capace of tears\n",
            "in the wine of\n",
            "this. I am to the same found of the meanures,\" she said, smiling. \"I could not help thinkily.\"\n",
            "\n",
            "\"Yes, but the colonel, and working a stringer from my hair. I am to\n",
            "such a botk from it. He's so meaning in his heart, and with his\n",
            "fancy, and she have the countess was not seen that you say about his\n",
            "father,\" he said.\n",
            "\n",
            "\"Yes; that's nothing, and I don't know the finesh is a peculiar tangly on the boxtres,\n",
            "when\n",
            "you're brought up and wanted to be done,\n",
            "but I shall go.\"\n",
            "\n",
            "The same\n",
            "peace they had been deliced that they were saw it and anywhere the statternish that was a string of the party to say anything\n",
            "at the caure of his brother that he had never come, was, and told him would be\n",
            "attained.\n",
            "\n",
            "\"Where are, I'll be at the sound of you,\" she said to her the solicate\n"
          ]
        }
      ],
      "source": [
        "print(sample(net, 1000, prime='Anna', top_k=5))"
      ]
    },
    {
      "cell_type": "markdown",
      "metadata": {
        "id": "m-LIP1Qf77Xo"
      },
      "source": [
        "## Loading a checkpoint"
      ]
    },
    {
      "cell_type": "code",
      "execution_count": 23,
      "metadata": {
        "collapsed": true,
        "id": "ev1oOcqS77Xo",
        "colab": {
          "base_uri": "https://localhost:8080/"
        },
        "outputId": "c5742899-4f28-42f1-a3df-f2b54e59e52e"
      },
      "outputs": [
        {
          "output_type": "execute_result",
          "data": {
            "text/plain": [
              "<All keys matched successfully>"
            ]
          },
          "metadata": {},
          "execution_count": 23
        }
      ],
      "source": [
        "# Here we have loaded in a model that trained over 20 epochs `rnn_20_epoch.net`\n",
        "with open('rnn_x_epoch.net', 'rb') as f:\n",
        "    checkpoint = torch.load(f)\n",
        "\n",
        "loaded = CharRNN(checkpoint['tokens'], n_hidden=checkpoint['n_hidden'], n_layers=checkpoint['n_layers'])\n",
        "loaded.load_state_dict(checkpoint['state_dict'])"
      ]
    },
    {
      "cell_type": "code",
      "execution_count": 24,
      "metadata": {
        "collapsed": true,
        "id": "yxHAvquh77Xp",
        "colab": {
          "base_uri": "https://localhost:8080/"
        },
        "outputId": "b5feed52-b8d3-448a-9d5a-a3fb9e9d0e55"
      },
      "outputs": [
        {
          "output_type": "stream",
          "name": "stdout",
          "text": [
            "And Levin said. He felt something so transtoration,\n",
            "but a from and\n",
            "tall and was the same take, was, simply and strange from the\n",
            "sight of a set of the stairs, had been strook at the servant she was to speak, taking an\n",
            "expressions of hurried and social smile and as in the\n",
            "pitties in\n",
            "his face, went on a shinting lands that\n",
            "had stond on the peasants which had to gave her simple character, which was the corner of her, at the crowd of a chouse of secretay and subjects, at his face and\n",
            "telling other her honoral still. Besides, three sorr was\n",
            "to say.\n",
            "\n",
            "\"And I did the\n",
            "crowd,\" said Stepan Arkadyevitch and with thrugging his brother.\n",
            "\n",
            "\"Yes, you've been saying this interestions. To see you a country for helped that had any minute, and then a carriage work as to think.\n",
            "There is a\n",
            "little princess, and the peasants, if you\n",
            "know a little whole attress, and he does, I would have not succeeded, and so still they would say to anything in this portroous, then there's no sort\n",
            "of parties. I don't care all this women. Then all one\n",
            "could not say. It was all the measures, and they could not see. It's not\n",
            "over any that seeing her those papirss, of such such a certain depersated outside, intelligence of the significance woman and that thing is to him. All the complete or that seems\n",
            "of my candle of all standing, and what she's thinking of anything\n",
            "and tried as she has\n",
            "been so\n",
            "that it is, and how has they might\n",
            "be simply.\"\n",
            "\n",
            "And there was no one shoulders, when a charment and their\n",
            "coachman's here of the wend at\n",
            "once while the same\n",
            "counting his own head of which they were not the same tightly\n",
            "and happiness and was as the staterand\n",
            "with her face were a mushlemen.\n",
            "The servants\n",
            "had been a confice was still at the carriage. The proper of trouble to\n",
            "be taken a good.\n",
            "\n",
            "Stepan Arkadyevitch was so silent\n",
            "at her at his hands, would set his brother. He came to the light holy of the country, and, turning to the stool to the colonel of her son. And he was deal, the clish of stupbed official head of the servent, a dear. At t\n"
          ]
        }
      ],
      "source": [
        "# Sample using a loaded model\n",
        "print(sample(loaded, 2000, top_k=5, prime=\"And Levin said\"))"
      ]
    },
    {
      "cell_type": "code",
      "execution_count": null,
      "metadata": {
        "collapsed": true,
        "id": "_RoODqUe77Xq"
      },
      "outputs": [],
      "source": []
    }
  ],
  "metadata": {
    "kernelspec": {
      "display_name": "Python 3",
      "name": "python3"
    },
    "language_info": {
      "codemirror_mode": {
        "name": "ipython",
        "version": 3
      },
      "file_extension": ".py",
      "mimetype": "text/x-python",
      "name": "python",
      "nbconvert_exporter": "python",
      "pygments_lexer": "ipython3",
      "version": "3.6.4"
    },
    "colab": {
      "provenance": [],
      "gpuType": "T4"
    },
    "accelerator": "GPU"
  },
  "nbformat": 4,
  "nbformat_minor": 0
}